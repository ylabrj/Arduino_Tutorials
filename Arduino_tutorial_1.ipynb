{
 "cells": [
  {
   "cell_type": "markdown",
   "metadata": {},
   "source": [
    "\n",
    "# Ylab Introduction to Arduino\n",
    "\n",
    "![Class Objective](pinky_brain.jpg)\n",
    "\n"
   ]
  },
  {
   "cell_type": "markdown",
   "metadata": {},
   "source": [
    "***\n",
    "# What do we need to take over the world?\n",
    "\n",
    "1. A way to take readings from the real world\n",
    "1. A way to send output/control signals to the real world\n",
    "1. Some logic (like a programmming language) to link the above\n",
    "1. A really cheap board to do it all for us!\n",
    "\n",
    "![Arduino Uno](arduino_uno.jpg)\n",
    "\n",
    "Oh, yeah, and we might need some __significant power__. Don't forget about that.\n",
    "\n"
   ]
  },
  {
   "cell_type": "markdown",
   "metadata": {},
   "source": [
    "# Lesson 1: The Arduino IDE\n",
    "*__Integrated Development Enviroment__*\n",
    "This is the software you download from [here](https://www.arduino.cc/en/Main/Software)\n",
    "\n",
    "*  Plug in your Arduino board\n",
    "*  Start the IDE\n",
    "*  Find the board: __Tools -> Port__ and select the one with the Arduino\n",
    "*  Programming Language:\n",
    "    *  Pretty much based on C\n",
    "    *  {} for nested structures and functions\n",
    "    *  // for comments. Use lots!\n",
    "    *  ; at the end of every statement\n",
    "    *  __[Programming language reference here](https://www.arduino.cc/reference/en/)__\n",
    "    *  Verify/compile by hitting the checkmark ico (top-left)\n",
    "    \n",
    "    *  If successfully compiled (no errors), load to Arduino with the right-arrow-in-a-circle icon"
   ]
  },
  {
   "cell_type": "markdown",
   "metadata": {},
   "source": [
    "***\n",
    "# Lesson 1A: Our First Program(s)\n",
    "***\n",
    "\n",
    "Programs??? Arduino calls them \"sketches\".\n",
    "\n",
    "That's a cheap trick to avoid scaring away people who are frightened by C programs. \n",
    "*  ... which may actually be a healthy fear.\n",
    "\n"
   ]
  },
  {
   "cell_type": "code",
   "execution_count": 1,
   "metadata": {},
   "outputs": [
    {
     "name": "stdout",
     "output_type": "stream",
     "text": [
      "10\n"
     ]
    }
   ],
   "source": [
    "x=10\n",
    "print(x)"
   ]
  },
  {
   "cell_type": "code",
   "execution_count": 1,
   "metadata": {},
   "outputs": [
    {
     "name": "stdout",
     "output_type": "stream",
     "text": [
      "Overwriting sketches/blink_led_13_commented/blink_led_13_commented.ino\n",
      "-- verify option: Build only - will not attempt to load to board\n",
      "Starting Arduino build\n",
      "Command output :  Sketch uses 936 bytes (2%) of program storage space. Maximum is 32256 bytes.\n",
      "Global variables use 9 bytes (0%) of dynamic memory, leaving 2039 bytes for local variables. Maximum is 2048 bytes.\n",
      "\n",
      "Command errors:  Loading configuration...\n",
      "Initializing packages...\n",
      "Preparing boards...\n",
      "Verifying...\n",
      "\n",
      "Done\n"
     ]
    }
   ],
   "source": [
    "%%arduino blink_led_13_commented -v\n",
    "// Four Key Sections\n",
    "// __Section 1: Constants and global variables__\n",
    "\n",
    "// We're going to use Pin 13 on the board, which has a built-in LED and resistor\n",
    "#define Pin13LED  13\n",
    "\n",
    "// __Section 2: Intitialisation/setup__\n",
    "void setup() {     //Note the opening squiggly bracket\n",
    "   // Function to set the\n",
    "   // CASE is Critical in C programming. Type EXACTLY!!! as written\n",
    "   // We're setting up the pin for OUTPUT. \n",
    "   // Note the ; at the end of every line\n",
    "   pinMode(Pin13LED,OUTPUT);  // Standard pinMode function\n",
    "   // Set the pin to 0 volts (LOW). Opposite is high (5V)\n",
    "   digitalWrite(Pin13LED, LOW);\n",
    "}  // End setup()   \n",
    "\n",
    "//__Section 3: The main loop__ that executes forever\n",
    "void loop() {\n",
    "   digitalWrite(Pin13LED,HIGH);  // Turn on the LED\n",
    "   delay(1000);                  // Sleep for 1000 milliseconds\n",
    "   digitalWrite(Pin13LED,LOW);   // Turn off the LED\n",
    "   delay(1000);                  // Sleep off another second\n",
    "}   // End loop()\n",
    "\n",
    "//__Section 4: Any subroutines and Interrupt Service Routines (ISR)__\n",
    "// We don't have any right now\n"
   ]
  },
  {
   "cell_type": "markdown",
   "metadata": {},
   "source": [
    "## The abbreviated version\n",
    "\n",
    "#### Same program with the comments removed. Looks a lot less scary, doesn't it?\n",
    "\n",
    "#### ... but... *going back a month later to fix an uncommented program is a lot scarier*\n",
    "\n"
   ]
  },
  {
   "cell_type": "code",
   "execution_count": 5,
   "metadata": {},
   "outputs": [
    {
     "name": "stdout",
     "output_type": "stream",
     "text": [
      "11\n",
      "13\n"
     ]
    }
   ],
   "source": [
    "x=1\n",
    "x=x+10\n",
    "print(x)\n",
    "z=x+2h\n",
    "print(z)"
   ]
  },
  {
   "cell_type": "code",
   "execution_count": 3,
   "metadata": {},
   "outputs": [
    {
     "name": "stdout",
     "output_type": "stream",
     "text": [
      "Overwriting sketches/blink_led_13_uncommented/blink_led_13_uncommented.ino\n",
      "-- verify option: Build only - will not attempt to load to board\n",
      "Starting Arduino build\n",
      "Command output :  Sketch uses 936 bytes (2%) of program storage space. Maximum is 32256 bytes.\n",
      "Global variables use 9 bytes (0%) of dynamic memory, leaving 2039 bytes for local variables. Maximum is 2048 bytes.\n",
      "\n",
      "Command errors:  Loading configuration...\n",
      "Initializing packages...\n",
      "Preparing boards...\n",
      "Verifying...\n",
      "\n",
      "Done\n"
     ]
    }
   ],
   "source": [
    "%%arduino blink_led_13_uncommented -v\n",
    "#define Pin13LED 13\n",
    "\n",
    "void setup() {\n",
    "\n",
    "  pinMode(Pin13LED,OUTPUT);\n",
    "  digitalWrite(Pin13LED,LOW);\n",
    "}\n",
    "\n",
    "void loop() {\n",
    "\n",
    "   digitalWrite(Pin13LED,HIGH);\n",
    "   delay(1000);\n",
    "   digitalWrite(Pin13LED,LOW);\n",
    "   delay(1000);\n",
    "}"
   ]
  },
  {
   "cell_type": "markdown",
   "metadata": {},
   "source": [
    "### Save the routine as blink_led (or something like that)\n",
    "\n",
    "\n",
    "## Let's add some serial text output\n",
    "*  Shorten the on/off cycle to 100 ms\n",
    "*  Add a subroutine to tell it where we are\n",
    "*  Note that every time we write, the transmit light comes on\n"
   ]
  },
  {
   "cell_type": "code",
   "execution_count": 3,
   "metadata": {},
   "outputs": [
    {
     "name": "stdout",
     "output_type": "stream",
     "text": [
      "Creating sketch directory sketches/ pin13_with_serial\n",
      "Writing sketches/pin13_with_serial/pin13_with_serial.ino\n",
      "Starting Arduino compile\n",
      "Command output :  b'Sketch uses 2330 bytes (7%) of program storage space. Maximum is 32256 bytes.\\r\\nGlobal variables use 190 bytes (9%) of dynamic memory, leaving 1858 bytes for local variables. Maximum is 2048 bytes.\\r\\n'\n",
      "Command errors:  b'Loading configuration...\\r\\nInitializing packages...\\r\\nPreparing boards...\\r\\nVerifying...\\r\\nUploading...\\r\\n'\n",
      "Command exit status/return code :  0\n",
      "done\n"
     ]
    }
   ],
   "source": [
    "%%arduino pin13_with_serial\n",
    "#define Pin13LED 13\n",
    "int loopcount = 0;    //<<<<<<<<<< Define a variable\n",
    "\n",
    "void setup() {\n",
    "  // put your setup code here, to run once:\n",
    "  pinMode(Pin13LED,OUTPUT);\n",
    "  digitalWrite(Pin13LED,LOW);\n",
    "  Serial.begin(9600);  //<<<<<<<<<<<< Set up the serial port\n",
    "}\n",
    "\n",
    "void loop() {\n",
    "  // put your main code here, to run repeatedly:\n",
    "   loopcount++;      // <<<<<<<<<< C shorthand for loopcount = loopcount + 1\n",
    "   digitalWrite(Pin13LED,HIGH);\n",
    "   delay(100);       // <<<<<<<<<< Shorten the cycle time to 100 ms\n",
    "   digitalWrite(Pin13LED,LOW);\n",
    "   delay(100);       // <<<<<<<<<< Shorten the cycle time to 100 ms\n",
    "   // <<<<<<<< Every 5th time through the loop, tell the world about it\n",
    "   if ((loopcount % 5) == 0) {\n",
    "      writeCount(loopcount);  // <<<<<<< Just for the heck of it, call a subroutine\n",
    "   }\n",
    "}\n",
    "\n",
    "void writeCount(int x){\n",
    "  Serial.println(x); \n",
    "}\n"
   ]
  },
  {
   "cell_type": "markdown",
   "metadata": {},
   "source": [
    "#### Save the above as blink_with_serial (or something like that)\n",
    "\n",
    "## So where do we see the serial output?\n",
    "\n",
    "#### On the IDE: Open the Serial Monitor window to see the serial output\n",
    "*  __Tools -> Serial Monitor__\n",
    "*  Recompile and reload the program\n",
    "\n",
    "#### For a different view:\n",
    "\n",
    "*  Close the __Serial Monitor__ window\n",
    "*  __Tools -> Serial Plotter\n",
    "*  Recompile and reload the program\n"
   ]
  },
  {
   "cell_type": "markdown",
   "metadata": {},
   "source": [
    "## Next we control the brightness of the LED... by turning it on and off\n",
    " \n",
    "    Reopen the blinkled routine and edit it.\n",
    "    \n",
    "    \n"
   ]
  },
  {
   "cell_type": "code",
   "execution_count": 1,
   "metadata": {},
   "outputs": [
    {
     "name": "stdout",
     "output_type": "stream",
     "text": [
      "Creating sketch directory sketches/blink_led_low_high\n",
      "Writing sketches/blink_led_low_high/blink_led_low_high.ino\n",
      "Starting Arduino compile\n",
      "Command output :  b'Sketch uses 1010 bytes (3%) of program storage space. Maximum is 32256 bytes.\\r\\nGlobal variables use 9 bytes (0%) of dynamic memory, leaving 2039 bytes for local variables. Maximum is 2048 bytes.\\r\\n'\n",
      "Command errors:  b'Loading configuration...\\r\\nInitializing packages...\\r\\nPreparing boards...\\r\\nVerifying...\\r\\nUploading...\\r\\n'\n",
      "Command exit status/return code :  0\n",
      "done\n"
     ]
    }
   ],
   "source": [
    "%%arduino blink_led_low_high\n",
    "#define Pin13LED 13\n",
    "\n",
    "void setup() {\n",
    "  // put your setup code here, to run once:\n",
    "  pinMode(Pin13LED,OUTPUT);\n",
    "  digitalWrite(Pin13LED,LOW);\n",
    "}\n",
    "\n",
    "void loop() {\n",
    "   int loopcount;\n",
    "  // put your main code here, to run repeatedly:\n",
    "   loopcount = 0;\n",
    "   // Run a loop turning on LED for 10 ms and off for 5 ms\n",
    "   while (loopcount < 100){\n",
    "      loopcount++;\n",
    "      digitalWrite(Pin13LED,HIGH);\n",
    "      delay(10);\n",
    "      digitalWrite(Pin13LED,LOW);\n",
    "      delay(5);\n",
    "   }\n",
    "   loopcount = 0;\n",
    "   // Run a loop turning on LED for 2 ms and off for 20 ms\n",
    "   while (loopcount < 100){\n",
    "      loopcount++;\n",
    "      digitalWrite(Pin13LED,HIGH);\n",
    "      delay(2);\n",
    "      digitalWrite(Pin13LED,LOW);\n",
    "      delay(20);\n",
    "   }\n",
    "}"
   ]
  },
  {
   "cell_type": "markdown",
   "metadata": {},
   "source": [
    "### This type of program loop that turns something on and off quickly is called *bit banging*.\n",
    "### Bit Banging is very clever... but a waste of time and effort.\n",
    "\n",
    "# Arduino is based on a microcontroller that has some very clever functions.\n",
    "\n",
    "### PWM: Pulse Width Modulation\n",
    "*  Standard part of most micro-controllers\n",
    "*  Simulates analog voltage levels (0V - 5V) by rapidly turning 5V off and on\n",
    "    *  *__... because cheap microcontrollers do not have analog output__*\n",
    "*  Set level from 0 (0 volt average) to 255 (always on for 5 volts)\n",
    "   **  so... 127 will be on half the time, and should average to about 2.5 volts\n",
    "   \n",
    "__ONLY CERTAIN OUTPUT PINS SUPPORT PWM__ (we'll get to that). Pin 13 with our LED does not.\n",
    "\n",
    "__[More info on PWM](https://www.arduino.cc/en/Tutorial/SecretsOfArduinoPWM)__\n",
    "\n",
    "# Lesson 1B: Build an oscilloscope to see what's happening\n",
    "\n",
    "\n",
    "Big thanks to the amazing __[Oyvind](https://www.build-electronic-circuits.com/arduino-oscilloscope-updated/)__ for the brilliant 7 line oscilloscope. Check out his web site for lots of great educational stuff and projects.\n",
    "\n",
    "We're going to take those 7 lines and improve it by adding PWM outputs to measure.\n",
    "\n",
    "Enter the program below, start the serial monitor, compile and load."
   ]
  },
  {
   "cell_type": "code",
   "execution_count": 1,
   "metadata": {},
   "outputs": [
    {
     "name": "stdout",
     "output_type": "stream",
     "text": [
      "Overwriting sketches/oscilloscope_with_pwm/oscilloscope_with_pwm.ino\n",
      "Build will upload to board if compile successful\n",
      "Starting Arduino build\n",
      "Command output :  Sketch uses 2334 bytes (7%) of program storage space. Maximum is 32256 bytes.\n",
      "Global variables use 188 bytes (9%) of dynamic memory, leaving 1860 bytes for local variables. Maximum is 2048 bytes.\n",
      "\n",
      "Command errors:  Loading configuration...\n",
      "Initializing packages...\n",
      "Preparing boards...\n",
      "Verifying...\n",
      "Uploading...\n",
      "\n",
      "Done\n"
     ]
    }
   ],
   "source": [
    "%%arduino oscilloscope_with_pwm\n",
    "void setup(){\n",
    "  // put your setup code here, to run once:\n",
    "  Serial.begin(9600);   //Set up serial connection\n",
    "  // Set up PWM output on pins 9,10 and 11 for different levels.\n",
    "  // You do it here because once it’s set up, it keeps running.\n",
    "  // You don’t need it in the main loop so it doesn’t interfere\n",
    "  // with the measurements.\n",
    "  // Once it’s running, attached the wire from A0 to each pin to\n",
    "  // see the square waveform generated by each value,\n",
    "  pinMode(9, OUTPUT);  \n",
    "  analogWrite(9,25);\n",
    "  pinMode(10, OUTPUT);\n",
    "  analogWrite(10,128);\n",
    "  pinMode(11, OUTPUT);\n",
    "  analogWrite(11,200);\n",
    "\n",
    "  // Now let's set up a couple of basic digital pins\n",
    "  pinMode(8, OUTPUT);\n",
    "  digitalWrite(8, HIGH);\n",
    "  pinMode(7, OUTPUT);\n",
    "  digitalWrite(7, LOW);\n",
    "\n",
    "  // Turn on Pin 13 LED so we see what's happening there.\n",
    "  pinMode(13, OUTPUT);\n",
    "  digitalWrite(13, HIGH);\n",
    "}\n",
    "\n",
    "void loop() {\n",
    "  // put your main code here, to run repeatedly:\n",
    "  int val = analogRead(A0); //Read analog pin\n",
    "  Serial.println(val);      // Write analog value to serial port\n",
    "}"
   ]
  },
  {
   "cell_type": "markdown",
   "metadata": {},
   "source": [
    "Plug one end of a wire into pin A0. What do you see?\n",
    "*  We'll explain that one later. Can you guess what's happening?\n",
    "\n",
    "Now plug the other end of the wire into each of 9, 10 and 11 to see what the PWM looks like.\n",
    "\n",
    "Plug it into GND.\n",
    "\n",
    "Plug it into 8 (HIGH) and 7 (LOW).\n",
    "\n",
    "Plut it into pin 13 that's powering up the LED on HIGH.\n",
    "*  Is it different from pin 8 (HIGH)? Why?\n",
    "\n",
    "What is the highest value you see in all of the above?\n",
    "*  You can open the regular text serial monitor to get an accurate reading.\n",
    "\n",
    "What is the lowest value?\n",
    "\n",
    "Does that range mean anything?"
   ]
  },
  {
   "cell_type": "markdown",
   "metadata": {},
   "source": [
    "# Lesson 2: The Arduino Board\n",
    "\n",
    "This reference diagra is from  __[this page](http://marcusjenkins.com/arduino-pinout-diagrams/)__. It has detailed diagrams of most of the Arduino variants. \n",
    "\n",
    "![Arduino Uno Diagram](ARDUINO_V2_Pinouts.png)\n",
    "\n"
   ]
  },
  {
   "cell_type": "markdown",
   "metadata": {},
   "source": [
    "***\n",
    "##  Arduino Board: Power and Ground Connections\n",
    "\n",
    "*  __Where does the Arduino get its power?__\n",
    "    *  USB cable: 5V only\n",
    "    *  Power jack: 7-12V (VIN). \n",
    "        *  If connected, USB power disconnected. But USB serial communications still work\n",
    "  \n",
    "        \n",
    "*  __Where are the ground pins?__        \n",
    "*  __Where does the Arduino get its ground?__\n",
    "    *  USB cable, if attached... which gets it from PC... which gets it from...\n",
    "    *  If using external power supply, ground connector of supply\n",
    "*  __Where are the power connectors for your devices/project?__\n",
    "    *  Three points: 3.3V, 5V, and, if external power supply on power jack, VIN\n",
    "    *  *__What is the voltage of VIN?__*\n",
    "    \n",
    "* __Be mindful of power limits__. We'll get to that later. It can be complicated.\n",
    "    \n",
    "    \n",
    "    \n",
    "    __[Read this to learn more about Arduino power and ground](https://www.open-electronics.org/the-power-of-arduino-this-unknown/)__. Also read the Q and A at the end.\n",
    "    __[Example of a ground problem](https://electronics.stackexchange.com/questions/134255/floating-supply-and-usb-ground)__.\n",
    "        "
   ]
  },
  {
   "cell_type": "markdown",
   "metadata": {},
   "source": [
    "## Arduino Board Inputs and Outputs: How we talk to the world\n",
    "\n",
    "### Analog In: Pins A0-A5.   0 to 5 volts, in 0-1023 levels\n",
    "*  Sensors designed to provide reading between 0V and 5 V\n",
    "*  analogRead() provides the value in range 0 (0volts) to 1023 (5 volts)\n",
    "*  Now think about those oscilloscope readings.\n",
    "\n",
    "### Digital Inputs - 0/LOW = 0 volts, 1/HIGH = 5 volts. Pins 0-13\n",
    "\n",
    "Pull-up resistor may be required - internal or external\n",
    "*  pinMode(PIN1, INPUT)  (internal resistor is 20K ohms)\n",
    "*  digitalWrite(PIN1, HIGH)\n",
    "or\n",
    "*  pinMode(INPUT_PULLUP)\n",
    "*  use external pull-up resistor\n",
    "*  Pull-down not available external\n",
    "*  It's for a reading (not power input), so you want low current, so high R -  a.k.a _high impedance input_\n",
    "\n",
    "__[Read more here](https://www.arduino.cc/en/Tutorial/DigitalPins)\n",
    "\n",
    "## But some of those digital pins have secondary uses\n",
    "### Serial communication on USB: Pins 0 and 1 (UART)\n",
    "\n",
    "*  Just like dumb old terminals and modems.\n",
    "*  Don't use if your sketch will be communicating with your laptop over USB!\n",
    "\n",
    "Serial programming __[example1](https://ns-electric.com/knowledge-base/intro-to-arduino-uart-serial-communication/)__ and __[example2](https://www.arduino.cc/en/tutorial/SoftwareSerialExample)__\n",
    "__[Serial communication commands](https://www.arduino.cc/reference/en/language/functions/communication/serial/)__\n",
    "\n",
    "### Interrupts: Digital pins 2 and 3\n",
    "*  A way-cool way of triggering an action (by calling a function) when something happens. Instead of waiting around in a program loop.\n",
    "\n",
    "__[Info and tutorial here](https://learn.sparkfun.com/tutorials/processor-interrupts-with-arduino/all)__\n",
    "\n",
    "### I2C Communication Bus: Pins A4 and A5 (replicated on 27 and 28)\n",
    "*  Like a mini-lan for multiple devices on just two wires.\n",
    "*  Us\n",
    "*  __[I2C Reference and code samples](https://howtomechatronics.com/tutorials/arduino/how-i2c-communication-works-and-how-to-use-it-with-arduino/)__\n",
    "\n",
    "### Digital Outputs - 0/false = 0 volts, 1/true = 5 volts. Pins 0-13\n",
    "\n",
    "*  We may be driving a device, so we want more current\n",
    "  *  MAX: 40 mA; recommended to limit to 20 mA; ABSOLUTE MAX 200 mA\n",
    "  *  Use 470 ohm or 1K ohm resistor to control\n",
    "  *  Relays tend to need more current\n",
    "  *  Pin 13 is special: already has LED and resistor\n",
    "  \n",
    "### PWM (sort of analog) outputs: pins 3,5,6,9,10,11\n",
    "  *  Pulses on/off to provide _average_ voltage between 0 and 5 V\n",
    "  *  0-255 levels \n",
    "  \n",
    "\n",
    "### Serial/communication inputs: Pins 0 and 1\n",
    "*  Serial (via USB) UART\n",
    "\n",
    "\n",
    "\n",
    "\n",
    "\n"
   ]
  },
  {
   "cell_type": "markdown",
   "metadata": {},
   "source": [
    "# Exercise 1C: Modify our oscilloscope for accurate voltage readings\n",
    "\n",
    "Remember the range you noted for the serial output of our oscilloscope?\n",
    "\n",
    "You should now understand why we get those numbers/levels.\n",
    "\n",
    "Simple math will reduce the range from 0-1023 to 0-5 volts.\n",
    "\n",
    "But: 0-1023 is \"int\" (integer), which has no decimal points.\n",
    "\n",
    "We'll need a floating point decimal number for our conversion.\n"
   ]
  },
  {
   "cell_type": "code",
   "execution_count": 1,
   "metadata": {},
   "outputs": [
    {
     "name": "stdout",
     "output_type": "stream",
     "text": [
      "Creating sketch directory sketches/oscilloscope_pwm_volts\n",
      "Writing sketches/oscilloscope_pwm_volts/oscilloscope_pwm_volts.ino\n",
      "Build will upload to board if compile successful\n",
      "Starting Arduino build\n",
      "Command output :  Sketch uses 3774 bytes (11%) of program storage space. Maximum is 32256 bytes.\n",
      "Global variables use 200 bytes (9%) of dynamic memory, leaving 1848 bytes for local variables. Maximum is 2048 bytes.\n",
      "\n",
      "Command errors:  Loading configuration...\n",
      "Initializing packages...\n",
      "Preparing boards...\n",
      "Verifying...\n",
      "Uploading...\n",
      "\n",
      "Done\n"
     ]
    }
   ],
   "source": [
    "%%arduino oscilloscope_pwm_volts\n",
    "void setup() {\n",
    "  // put your setup code here, to run once:\n",
    "  Serial.begin(9600);   //Set up serial connection\n",
    "  // Set up PWM output on pins 9,10 and 11 for different levels.\n",
    "  // You do it here because once it’s set up, it keeps running.\n",
    "  // You don’t need it in the main loop so it doesn’t interfere\n",
    "  // with the measurements.\n",
    "  // Once it’s running, attached the wire from A0 to each pin to\n",
    "  // see the square waveform generated by each value,\n",
    "  \n",
    "  pinMode(10, OUTPUT);\n",
    "  pinMode(11, OUTPUT);\n",
    "  pinMode(9, OUTPUT);\n",
    "  analogWrite(9,25);\n",
    "  analogWrite(10,128);\n",
    "  analogWrite(11,200);\n",
    "\n",
    "  // Now let's set up a couple of basic digital pins\n",
    "  pinMode(8, OUTPUT);\n",
    "  digitalWrite(8, HIGH);\n",
    "  pinMode(7, OUTPUT);\n",
    "  digitalWrite(7, LOW);\n",
    "\n",
    "  // Turn on Pin 13 LED so we see what's happening there.\n",
    "\n",
    "  pinMode(13, OUTPUT);\n",
    "  digitalWrite(13, HIGH);\n",
    "\n",
    "  // \n",
    "}\n",
    "\n",
    "\n",
    "void loop() {\n",
    "  double volts; //We're going to need decimal points to be accurate\n",
    "  // put your main code here, to run repeatedly:\n",
    "  int val = analogRead(A0); //Read analog pin\n",
    "  volts = (float (val)) / 204.8; // 1024/5 = 204 to reduce our range to 0->5 volts.\n",
    "  Serial.println(volts);      // Write analog value to serial port\n",
    "}"
   ]
  },
  {
   "cell_type": "markdown",
   "metadata": {},
   "source": [
    "# Optional Exercise 1D: Plotting multiple values\n",
    "\n",
    "Official documentation on the plotter is pretty slim but it can plot multiple values if we have them on the same line, separate by a space.\n",
    "\n",
    "__[Here's a pretty good tutorial](http://www.electronics-lab.com/project/using-arduino-ides-serial-plotter-feature/)__\n",
    "\n",
    "The __Serial.println()__ function we've been using so far prints each value on a single line by sending a line feed after printing our variable.\n",
    "\n",
    "__Serial.print()__ doesn't send the line feed.\n",
    "\n",
    "Let's print a sine and a cosine wave. We'll cycle through plotting the angles from 0 degrees to 360 degrees.\n",
    "\n",
    "Here the __[documentation for the cosine function](https://www.arduino.cc/reference/en/language/functions/trigonometry/cos/)__. Note that it expects an angle in radians.\n",
    "\n",
    "$$radians = \\frac{degrees \\times \\pi}{180}$$\n",
    "\n",
    "> *BTW: That nice mathematical expression above is done with __[LaTex](https://en.wikibooks.org/wiki/LaTeX/Mathematics#Operators)__, which is directly supported in the Jupyter markdown cell. Latex is based on __[Tex](https://en.wikipedia.org/wiki/TeX)__, developed by the great __[Donald Knuth](https://en.wikipedia.org/wiki/Donald_Knuth)__.* What he said applies here: \"Beware of bugs in the above code; I have only proved it correct, not tried it.\" Except that I haven't proven a thing.\n",
    "\n",
    "\n",
    "\n",
    "\n",
    "\n",
    "\n"
   ]
  },
  {
   "cell_type": "code",
   "execution_count": 10,
   "metadata": {},
   "outputs": [
    {
     "name": "stdout",
     "output_type": "stream",
     "text": [
      "Overwriting sketches\\sin_cos_plots\\sin_cos_plots.ino\n",
      "Build will upload to board if compile successful\n",
      "Using arduino port COM5\n",
      "Starting Arduino build\n",
      "Command:  \"C:\\Program Files (x86)\\Arduino\\arduino.exe\" --upload --port COM5 --board arduino:avr:micro sketches\\sin_cos_plots\\sin_cos_plots.ino\n",
      "Command output :  Sketch uses 5888 bytes (20%) of program storage space. Maximum is 28672 bytes.\n",
      "Global variables use 165 bytes (6%) of dynamic memory, leaving 2395 bytes for local variables. Maximum is 2560 bytes.\n",
      "\n",
      "Command errors:  Loading configuration...\n",
      "Initializing packages...\n",
      "Preparing boards...\n",
      "Verifying...\n",
      "Uploading...\n",
      "\n",
      "\n",
      "\n",
      "Done\n"
     ]
    }
   ],
   "source": [
    "%%jarduino sin_cos_plots -b micro -p COM5\n",
    "void setup(){\n",
    "    Serial.begin(115200);\n",
    "}\n",
    "\n",
    "void loop(){\n",
    "    for (int angle = 0; angle < 360; angle ++){\n",
    "        Serial.print(sin(angle * (PI/180)));\n",
    "        Serial.print(\" \");\n",
    "        Serial.println(cos(angle * (PI/180)));\n",
    "    }\n",
    "}"
   ]
  },
  {
   "cell_type": "code",
   "execution_count": 11,
   "metadata": {},
   "outputs": [],
   "source": [
    "%%jarduino?\n"
   ]
  },
  {
   "cell_type": "markdown",
   "metadata": {},
   "source": [
    "Notice how the colours are picked automatically for the two plots. We have no control over the colour.\n",
    "\n",
    "The plots overlap. If we add an offset to the cosine plot, we can stack them."
   ]
  },
  {
   "cell_type": "code",
   "execution_count": 12,
   "metadata": {},
   "outputs": [
    {
     "name": "stdout",
     "output_type": "stream",
     "text": [
      "Overwriting sketches/sin_cos_plots_stacked/sin_cos_plots_stacked.ino\n",
      "Build will upload to board if compile successful\n",
      "Starting Arduino build\n",
      "Command output :  Sketch uses 3710 bytes (11%) of program storage space. Maximum is 32256 bytes.\n",
      "Global variables use 202 bytes (9%) of dynamic memory, leaving 1846 bytes for local variables. Maximum is 2048 bytes.\n",
      "\n",
      "Command errors:  Loading configuration...\n",
      "Initializing packages...\n",
      "Preparing boards...\n",
      "Verifying...\n",
      "Uploading...\n",
      "\n",
      "Done\n"
     ]
    }
   ],
   "source": [
    "%%jarduino sin_cos_plots_stacked\n",
    "void setup(){\n",
    "    Serial.begin(9600);\n",
    "}\n",
    "\n",
    "void loop(){\n",
    "    for (int angle = 0; angle < 360; angle++){\n",
    "        Serial.print(sin(angle * (PI/180)));\n",
    "        Serial.print(\" \");\n",
    "        Serial.println(cos(angle * (PI/180))+2.5);\n",
    "    }\n",
    "}"
   ]
  },
  {
   "cell_type": "code",
   "execution_count": 2,
   "metadata": {},
   "outputs": [
    {
     "data": {
      "text/plain": [
       "[<matplotlib.lines.Line2D at 0x12152363d30>]"
      ]
     },
     "execution_count": 2,
     "metadata": {},
     "output_type": "execute_result"
    },
    {
     "data": {
      "image/png": "[encoded data removed]",
      "text/plain": [
       "<Figure size 432x288 with 1 Axes>"
      ]
     },
     "metadata": {
      "needs_background": "light"
     },
     "output_type": "display_data"
    }
   ],
   "source": [
    "%matplotlib inline\n",
    "import serial\n",
    "import matplotlib.pyplot as plt\n",
    "import numpy as np\n",
    "x = np.linspace(0,10,100)\n",
    "fig = plt.figure()\n",
    "plt.plot(x,np.sin(x),'-')\n",
    "plt.plot(x,np.cos(x),'--')"
   ]
  },
  {
   "cell_type": "code",
   "execution_count": null,
   "metadata": {},
   "outputs": [],
   "source": [
    "# Testing live plotting\n",
    "\n",
    "__(Based on this video)[https://www.youtube.com/watch?v=ZmYPzESC5YY]__\n",
    "\n",
    "__(Also check out this one)[https://electronut.in/plotting-real-time-data-from-arduino-using-python/]__\n",
    "\n",
    "__(and this link on the different backends)[https://medium.com/@1522933668924/using-matplotlib-in-jupyter-notebooks-comparing-methods-and-some-tips-python-c38e85b40ba1]__\n",
    "\n",
    "*  inline: small graph\n",
    "*  notebook: resizable/scalable"
   ]
  },
  {
   "cell_type": "code",
   "execution_count": 24,
   "metadata": {},
   "outputs": [],
   "source": [
    "serialArduino.close()"
   ]
  },
  {
   "cell_type": "code",
   "execution_count": null,
   "metadata": {},
   "outputs": [],
   "source": [
    "%matplotlib inline\n",
    "import numpy as np\n",
    "import matplotlib.pyplot as plt\n",
    "import matplotlib.animation as animation\n",
    "from matplotlib import style\n",
    "\n",
    "import serial\n",
    "\n",
    "#style.use('fivethirtyeight)')\n",
    "fig=plt.figure()\n",
    "\n",
    "ax1 = fig.add_subplot(1,1,1)     # 1X 1 grid, plot #1\n",
    "\n",
    "def animate(i):   # i is interval\n",
    "    graph_data = open('samplefile.txt','r').read()\n",
    "    lines = graph_data.split('\\n')\n",
    "    xs = []\n",
    "    ys = []\n",
    "    for line in lines:\n",
    "        if len(line) > 1:\n",
    "            x,y = line.split(',')\n",
    "            xs.append(x)\n",
    "            ys.append(y)\n",
    "    ax1.clear()\n",
    "    ax1.plot(xs,ys)\n",
    "                      \n",
    "ani = animation.FuncAnimation(fig, animate, interval = 10000) # interval is in ms\n",
    "plt.show()\n",
    "            "
   ]
  },
  {
   "cell_type": "code",
   "execution_count": null,
   "metadata": {},
   "outputs": [],
   "source": [
    "%matplotlib inline\n",
    "import numpy as np\n",
    "import matplotlib.pyplot as plt\n",
    "import matplotlib.animation as animation\n",
    "from matplotlib import style\n",
    "\n",
    "import serial\n",
    "\n",
    "#style.use('fivethirtyeight)')\n",
    "fig=plt.figure()\n",
    "\n",
    "ax1 = fig.add_subplot(1,1,1)     # 1X 1 grid, plot #1\n",
    "def animate(i):   # i is interval\n",
    "    graph_data = open('samplefile.txt','r').read()\n",
    "    lines = graph_data.split('\\n')\n",
    "    xs = []\n",
    "    ys = []\n",
    "    for line in lines:\n",
    "        if len(line) > 1:\n",
    "            x,y = line.split(',')\n",
    "            xs.append(x)\n",
    "            ys.append(y)\n",
    "    ax1.clear()\n",
    "    ax1.plot(xs,ys)\n",
    "                      \n",
    "ani = animation.FuncAnimation(fig, animate, interval = 1000) # interval is in ms\n",
    "plt.show\n",
    "                      \n",
    "                      \n"
   ]
  },
  {
   "cell_type": "code",
   "execution_count": null,
   "metadata": {},
   "outputs": [],
   "source": [
    "\n",
    "\n",
    "serialArduino = serial.Serial('COM4', 9600)\n",
    "\n",
    "plt.axis([0, 10, 0, 1])\n",
    "\n",
    "for i in range(1000):\n",
    "    \n",
    "    z = serialArduino.readline()\n",
    "    y=z[0]\n",
    "    print(\"y=\",y)\n",
    "    plt.scatter(i, y)\n",
    "    plt.pause(0.05)\n",
    "\n",
    "plt.show()"
   ]
  },
  {
   "cell_type": "code",
   "execution_count": 21,
   "metadata": {},
   "outputs": [
    {
     "name": "stdout",
     "output_type": "stream",
     "text": [
      "serialArduino.isOpen() = True\n",
      "readline()\n",
      "2.86\n"
     ]
    },
    {
     "ename": "NameError",
     "evalue": "name 'drawnow' is not defined",
     "output_type": "error",
     "traceback": [
      "\u001b[1;31m---------------------------------------------------------------------------\u001b[0m",
      "\u001b[1;31mNameError\u001b[0m                                 Traceback (most recent call last)",
      "\u001b[1;32m<ipython-input-21-4af76e44be07>\u001b[0m in \u001b[0;36m<module>\u001b[1;34m\u001b[0m\n\u001b[0;32m     43\u001b[0m     \u001b[0mvalues\u001b[0m\u001b[1;33m.\u001b[0m\u001b[0mappend\u001b[0m\u001b[1;33m(\u001b[0m\u001b[0mvalueInInt\u001b[0m\u001b[1;33m)\u001b[0m\u001b[1;33m\u001b[0m\u001b[1;33m\u001b[0m\u001b[0m\n\u001b[0;32m     44\u001b[0m     \u001b[0mvalues\u001b[0m\u001b[1;33m.\u001b[0m\u001b[0mpop\u001b[0m\u001b[1;33m(\u001b[0m\u001b[1;36m0\u001b[0m\u001b[1;33m)\u001b[0m\u001b[1;33m\u001b[0m\u001b[1;33m\u001b[0m\u001b[0m\n\u001b[1;32m---> 45\u001b[1;33m     \u001b[0mdrawnow\u001b[0m\u001b[1;33m(\u001b[0m\u001b[0mplotValues\u001b[0m\u001b[1;33m)\u001b[0m\u001b[1;33m\u001b[0m\u001b[1;33m\u001b[0m\u001b[0m\n\u001b[0m\u001b[0;32m     46\u001b[0m \u001b[1;33m\u001b[0m\u001b[0m\n",
      "\u001b[1;31mNameError\u001b[0m: name 'drawnow' is not defined"
     ]
    }
   ],
   "source": [
    "%matplotlib inline\n",
    "import serial\n",
    "import matplotlib.pyplot as plt\n",
    "import numpy as np\n",
    "\n",
    "\n",
    "values = []\n",
    "\n",
    "plt.ion()\n",
    "cnt=0\n",
    "\n",
    "serialArduino = serial.Serial('COM4', 9600)\n",
    "\n",
    "def plotValues():\n",
    "    plt.title('Serial value from Arduino')\n",
    "    plt.grid(True)\n",
    "    plt.ylabel('Values')\n",
    "    plt.plot(values, 'rx-', label='values')\n",
    "    plt.legend(loc='upper right')\n",
    "\n",
    "def doAtExit():\n",
    "    serialArduino.close()\n",
    "    print(\"Close serial\")\n",
    "    print(\"serialArduino.isOpen() = \" + str(serialArduino.isOpen()))\n",
    "\n",
    "#atexit.register(doAtExit)\n",
    "\n",
    "print(\"serialArduino.isOpen() = \" + str(serialArduino.isOpen()))\n",
    "\n",
    "#pre-load dummy data\n",
    "for i in range(0,26):\n",
    "    values.append(0)\n",
    "    \n",
    "while True:\n",
    "    while (serialArduino.inWaiting()==0):\n",
    "        pass\n",
    "    print(\"readline()\")\n",
    "    valueRead = serialArduino.readline()\n",
    "\n",
    "    valueInInt = float(valueRead)\n",
    "    print(valueInInt)\n",
    "\n",
    "    values.append(valueInInt)\n",
    "    values.pop(0)\n",
    "    drawnow(plotValues)\n",
    "    "
   ]
  },
  {
   "cell_type": "markdown",
   "metadata": {},
   "source": [
    "### *Optional*: How could we make the two plots cycle faster on the graph?\n",
    "\n",
    "\n",
    ">> *Note to the hardcore C programmers*: Unlike C's *printf*, *Serial.print* functions only support a single variable.   You could build a single string - butwe're dealing with a slow, memory-limited microcontroller. The memory space and performance for the string concatenation operation could be considerably more than calling the functions separately.\n",
    "\n",
    ">> For more serious plotting and instrumentation graphics for your project, check out the __[Processing](https://processing.org/)__ development kit. For a simple example, see __[Oyvind's original oscilloscope project](https://www.build-electronic-circuits.com/arduino-oscilloscope/)__ that used Processing before the Arduino serial plotter was released.\n"
   ]
  },
  {
   "cell_type": "markdown",
   "metadata": {},
   "source": [
    "# Exercise 1E: Plotting multiple values\n",
    "\n",
    "This time, we are going to plot all three of our PWMs from pins 9, 10 and 11 from Exercice 1D\n",
    "\n",
    "We will plot 3 values, being read by A0, A1 and A2.\n",
    "\n",
    "We sent each set of 3 to the serial port separated by a space, with a line feed on the last one.\n",
    "\n",
    "The plotter will assign its own colours.\n",
    "\n",
    "Bonus points for:\n",
    "\n",
    "*  The plots will overlap in different colours. Can you add an offset to the values to stack them up?"
   ]
  },
  {
   "cell_type": "code",
   "execution_count": null,
   "metadata": {},
   "outputs": [],
   "source": [
    "%%arduino 3_channel_scope_with_interrupt\n",
    "volatile boolean LED_ON = false; // volatile is important for interrupts\n",
    "volatile long debounce_time = 0;\n",
    "volatile long current_time = 0;\n",
    "\n",
    "\n",
    "void setup() {\n",
    "  //start serial connection\n",
    "  Serial.begin(9600);\n",
    "  //configure pin 2 as an input and enable the internal pull-up resistor\n",
    "  pinMode(2, INPUT_PULLUP);\n",
    "  attachInterrupt(digitalPinToInterrupt(2),buttonPressed,RISING);\n",
    "  pinMode(13, OUTPUT);\n",
    "  digitalWrite(13,LOW);\n",
    "\n",
    "}\n",
    "\n",
    "void loop() {\n",
    "  //read the pushbutton value into a variable\n",
    "  delay(2000);\n",
    "  Serial.println(\"Dum dee dum dee dum...\");\n",
    "}\n",
    "\n",
    "void buttonPressed(){\n",
    "  current_time = millis();\n",
    "  if ((current_time - debounce_time) > 200) {\n",
    "     Serial.println(\"Button Pressed!\");  //*** BAD IDEA. This is slow. Interrupt process should be brief.\n",
    "     if (LED_ON == true){\n",
    "       digitalWrite(13,LOW);\n",
    "       LED_ON = false;\n",
    "     }\n",
    "     else { // LED is off\n",
    "       digitalWrite(13,HIGH);\n",
    "       LED_ON = true;\n",
    "     }\n",
    "  } // end if\n",
    "  debounce_time = current_time;\n",
    "}"
   ]
  },
  {
   "cell_type": "code",
   "execution_count": 1,
   "metadata": {},
   "outputs": [
    {
     "name": "stdout",
     "output_type": "stream",
     "text": [
      "Creating sketch directory sketches/really_simple_3_channel_\n",
      "Writing sketches/really_simple_3_channel_/really_simple_3_channel_.ino\n",
      "Build will upload to board if compile successful\n",
      "Starting Arduino build\n",
      "Command output :  Sketch uses 4586 bytes (14%) of program storage space. Maximum is 32256 bytes.\n",
      "Global variables use 218 bytes (10%) of dynamic memory, leaving 1830 bytes for local variables. Maximum is 2048 bytes.\n",
      "\n",
      "Command errors:  Loading configuration...\n",
      "Initializing packages...\n",
      "Preparing boards...\n",
      "Verifying...\n",
      "Uploading...\n",
      "\n",
      "Done\n"
     ]
    }
   ],
   "source": [
    "%%arduino really_simple_3_channel_\n",
    "volatile long debounce_time = 0;\n",
    "volatile long current_time = 0;\n",
    "volatile float plot_offset = 0.0;\n",
    "\n",
    "\n",
    "\n",
    "\n",
    "void setup() {\n",
    "  // put your setup code here, to run once:\n",
    "  Serial.begin(9600);   //Set up serial connection\n",
    "  // Set up PWM output on pins 9,10 and 11 for different levels.\n",
    "  // You do it here because once it’s set up, it keeps running.\n",
    "  // You don’t need it in the main loop so it doesn’t interfere\n",
    "  // with the measurements.\n",
    "  // Once it’s running, attached the wire from A0 to each pin to\n",
    "  // see the square waveform generated by each value,\n",
    "  \n",
    "  pinMode(10, OUTPUT);\n",
    "  pinMode(11, OUTPUT);\n",
    "  pinMode(9, OUTPUT);\n",
    "  analogWrite(9,25);\n",
    "  analogWrite(10,128);\n",
    "  analogWrite(11,200);\n",
    "\n",
    "  // Now let's set up a couple of basic digital pins\n",
    "  pinMode(8, OUTPUT);\n",
    "  digitalWrite(8, HIGH);\n",
    "  pinMode(7, OUTPUT);\n",
    "  digitalWrite(7, LOW);\n",
    "\n",
    "  // Turn on Pin 13 LED so we see what's happening there.\n",
    "\n",
    "  pinMode(13, OUTPUT);\n",
    "  digitalWrite(13, HIGH);\n",
    "\n",
    "  // Set up Pin 2 for the button and interrupt handler\n",
    "  // configure pin 2 as an input and enable the internal pull-up resistor\n",
    "  pinMode(2, INPUT_PULLUP);\n",
    "  attachInterrupt(digitalPinToInterrupt(2),buttonPressed,RISING);\n",
    "   \n",
    "\n",
    "  // \n",
    "}\n",
    "\n",
    "\n",
    "void loop() {\n",
    "\n",
    "  // put your main code here, to run repeatedly:\n",
    "  float val0 =  (float (analogRead(A0))) / 204.8; //Read analog pin\n",
    "  float val1 =  ((float (analogRead(A1)))  / 204.8) + plot_offset;\n",
    "  float val2 =  ((float (analogRead(A2)))  / 204.8) + (plot_offset * 2.0);\n",
    "\n",
    "  Serial.print(val0);\n",
    "  Serial.print(\" \");\n",
    "  Serial.print(val1);\n",
    "  Serial.print(\" \");\n",
    "  Serial.println(val2); // Write analog value to serial port\n",
    "}\n",
    "\n",
    "void buttonPressed(){\n",
    "  current_time = millis();\n",
    "  if ((current_time - debounce_time) > 100) {\n",
    "\n",
    "     if (plot_offset == 7){\n",
    "       plot_offset = 0;\n",
    "     }\n",
    "     else { \n",
    "       plot_offset = 7;\n",
    "     }\n",
    "  } // end if\n",
    "  debounce_time = current_time;\n",
    "}"
   ]
  },
  {
   "cell_type": "code",
   "execution_count": 33,
   "metadata": {},
   "outputs": [],
   "source": [
    "%matplotlib?"
   ]
  },
  {
   "cell_type": "markdown",
   "metadata": {},
   "source": [
    "***\n",
    "# Lesson 2: Power and Ground and Short Circuits\n",
    "\n",
    "## What is ground?\n",
    "\n",
    "- It's our zero volt reference - because voltage is a *potential difference*\n",
    "- It can be different at different points. COMMON GROUND is important\n",
    "- It is definitely a safety thing\n",
    "\n",
    "![Ground diagrams](ground_diagrams.jpg)\n",
    "\n",
    "-  In the last picture - is our ground the same?\n",
    "    -  __YES, THERE CAN BE A POTENTIAL/VOLTAGE DIFFERENCE BETWEEN TWO GROUND POINTS__\n",
    "-  [Read way more about it here](https://www.allaboutcircuits.com/technical-articles/an-introduction-to-ground/)\n"
   ]
  },
  {
   "cell_type": "raw",
   "metadata": {},
   "source": [
    "\n",
    "### How much power is too much power?\n",
    "# Not much when you have a short circuit\n",
    "\n",
    "Can a 9-volt battery be too much?\n",
    "\n",
    "What about in the case of a short circuit?\n",
    "\n",
    "Exercise:\n",
    "\n",
    "![9V Battery and cap](9V_battery.jpg)\n",
    "\n",
    "-  pass around a 9V battery with a basic cap.\n",
    "-  hold the stripped ends of the + and - wires together between your fingers... for how long?\n",
    "\n",
    "### This is how you:\n",
    "\n",
    "-  __Cause fires__\n",
    "-  __Destroy components... like Arduino boards__\n",
    "-  __Deplete or destroy your power source\n",
    "-  __Burn yourself__... *if you're lucky*. Higher voltages/currents kill.\n",
    "-  __Cause insurance rates to go up... if you can get it at all__\n",
    "-  __Ensure that we ensure that everyone signs the waiver__\n",
    "\n",
    "##Rule: Any Arduino power pin (5V, 3.3V, VIN) directly to another pin - even ground - is bad.\n",
    "\n",
    "\n"
   ]
  },
  {
   "cell_type": "markdown",
   "metadata": {},
   "source": [
    "### RJ's Rule #1: \n",
    "# If you don't see a resistor or something providing resistance,there's something wrong with your circuit\n",
    "\n",
    "![Water Tower](water_tower_short_circuit.jpg)\n",
    "\n",
    "Imagine a water tower.\n",
    "-  Pipe coming out of the bottom is a resistance.\n",
    "-  The bottom blowing out is a short circuit.\n",
    "-  __You don't want to be between the power source and ground__"
   ]
  },
  {
   "cell_type": "markdown",
   "metadata": {},
   "source": [
    "# Basic Arduino Kit\n",
    "-- Arduino Uno\n",
    "-- Breadboard\n",
    "-- 22 gauge wire\n",
    "-- Wire cutter/stripper/crimper\n",
    "-- Resistor assortment\n",
    "\n",
    "## and whatever you want to hook up\n"
   ]
  },
  {
   "cell_type": "markdown",
   "metadata": {},
   "source": [
    "# The most basic Arduino circuit\n",
    "\n",
    "An LED\n",
    "-  Diode\n",
    "    ![LED and symbol](LED_and_symbol.png)\n",
    "    -  one-way electrical valve\n",
    "    -  NOT A RESISTANCE\n",
    "    -  LED: a minute amount of resistance to emit light\n",
    "        -  In our kits, not enough to be counted\n",
    "        -  Different situatio for high-power LEDs and strips\n",
    "    -  Long lead: +  \n",
    "    -  Short lead/flat side: -  *A minus sign is flat*\n",
    "    \n",
    "\n",
    "[Read way more about polarity for different devices here](https://learn.sparkfun.com/tutorials/polarity/all)\n",
    "        \n",
    "-  A resistor\n",
    "  -  220 ohms is a good value - relatively low to let power through to LED\n",
    "  -  Effectively controls maximum brightness\n",
    "  -  Effectively controls how fast you will wear out your battery\n",
    "      -  Counter intuitive? Higher resistance = longer battery life\n",
    "          -  Because it's like using a smaller pipe - water drains slower"
   ]
  },
  {
   "cell_type": "markdown",
   "metadata": {},
   "source": [
    "The most basic electric circuit\n",
    "![Old and new](old_and_new_circuit.png)\n",
    "### The short circuit and ground rules apply on every connection loop!"
   ]
  },
  {
   "cell_type": "markdown",
   "metadata": {},
   "source": [
    "# The Breadboard\n",
    "\n",
    "![Broadboard diagram,20%](breadboard_sample.jpg)\n",
    "\n",
    "Tip: use 22 gauge wire. Buy different colours\n",
    "\n",
    "Read this excellent __[breadboard tutorial](https://learn.sparkfun.com/tutorials/how-to-use-a-breadboard/all)__"
   ]
  },
  {
   "cell_type": "markdown",
   "metadata": {},
   "source": [
    "# RJ'S Rules\n",
    "## 1. If you don't have a resistor - or something providing resistance -  in the circuit, there's something wrong\n",
    "### An LED does not provide resistance.\n",
    "## 2. Link everything to the same ground\n",
    "## 3. Separate control power (Arduino) from device power\n",
    "\n"
   ]
  },
  {
   "cell_type": "code",
   "execution_count": 3,
   "metadata": {},
   "outputs": [],
   "source": [
    "# First Arduino Circuit (finally!)\n",
    "\n"
   ]
  },
  {
   "cell_type": "markdown",
   "metadata": {},
   "source": [
    "# Arduino Interrupt Programming\n",
    "\n",
    "Most programs:\n",
    "\n",
    "    void loop{\n",
    "        waste_some_time()\n",
    "        check_again()\n",
    "    }\n",
    "    \n",
    "Interrupt:\n",
    "*  Define one or more events (something that moves voltage low->high or high->low)\n",
    "*  Define what to do when each of those events happen (subroutine)\n",
    "*  Go merrily along your way... do other stuff... or sleep.\n",
    "\n",
    "Benefits:\n",
    "*  Almost instantaneous reaction - no waiting until a timer expires or a sequence of instructions finishes in a loop\n",
    "*  Prevents you from missing multiple events during your loop\n",
    "*  Much lower power consumption when Arduino is in sleep mode\n",
    "\n",
    "__[Why the control value must be declared as volatile](https://www.arduino.cc/reference/en/language/variables/variable-scope--qualifiers/volatile/)__. It also covers how to block interrupt processing\n",
    "\n",
    "__[This is an excellent tutorial](https://www.instructables.com/id/Arduino-Interrupts/)__\n",
    "\n",
    "__[This fast-talking video is a great example](https://www.youtube.com/watch?v=QtyOiTw0oQc)__\n",
    "\n",
    "__[Heavy duty article](https://playground.arduino.cc/code/interrupts)__\n",
    "\n",
    "\n",
    "    \n",
    "You can also do interrupts based on timers - i.e. every XX milliseconds. It's a little more complicated, but here's a great __[Arduino Timer Interrupt Tutorial](https://www.instructables.com/id/Arduino-Timer-Interrupts/)__  \n",
    "\n",
    "\n"
   ]
  },
  {
   "cell_type": "markdown",
   "metadata": {},
   "source": [
    "# I2C - Inter-Integrated Circuit Communications\n",
    "\n",
    "### The basics\n",
    "\n",
    "*  Used for more complex peripherals like displays\n",
    "*  Communication bus between ICs - multiple masters and slaves\n",
    "*  Developed by Philips in 1982\n",
    "    *  Subset: SMBus developed by Intel with stricter usage rules\n",
    "*  Common speeds: 100 kbit/s (Standard mode) to 400 kbit/s (Fast mode). New modes up to 3.4 Mbit/s\n",
    "*  Up to 1008 nodes; 10 bit addresses\n",
    "*  __[Wikipedia has an excellent reference](https://en.wikipedia.org/wiki/I%C2%B2C)__\n",
    "\n",
    "### Arduino Connection\n",
    "\n",
    "* Arduino Uno: Pins A4 and A5 - which are also connected to 27 and 29 on Arduino V3\n",
    "\n",
    "### The caveats\n",
    "*  Watch out for 3.3V vs 5V devices. Arduino UNO is 5V; other models are 3.3V. Each peripheral may be one or the other.\n",
    "*  Use a Logic Level Converter to connect the two - or you may blow out your 3.3V device. __[This is how to do it.](https://www.robotshop.com/community/blog/show/running-both-5v-and-3-3v-devices-on-i2c__\n",
    "\n"
   ]
  },
  {
   "cell_type": "markdown",
   "metadata": {},
   "source": [
    "# Linking Arduino and Raspberry Pi\n",
    "\n",
    "__[Interrupts: Raspberry Pi and GPIO](https://raspi.tv/2013/how-to-use-interrupts-with-python-on-the-raspberry-pi-and-rpi-gpio)__\n",
    "\n",
    "__[Python and Firmata](https://learn.adafruit.com/circuit-playground-firmata/example-python-code)__\n",
    "\n",
    "__[Configuring Raspberry Pi for I2C](https://diyprojects.io/activate-i2c-bus-raspberry-pi-3-zero/)__. Be sure to use this one if you are using a relatively recent version. Quite a few of the older instructions don't work. This one worked perfectly on a Raspberry Pi 2 with the latest Raspbian as of Feb 2019. You may not have to do anything - just test by running __sudo i2c-detect -y 1__\n",
    "  *  __Warning__: This reference is using an Arduino Nano that has 3.3V pins. That's compatible with Raspberry Pi,\n",
    "  *  If you want to use Arduino Uno (5V pins), you should use a logic level converter. See earlier section on I2C.\n",
    "  *  There are some __[references like this one](https://oscarliang.com/raspberry-pi-arduino-connected-i2c/)__ that say you can use 3.3V RPi as master with Arduino UNO as slave. Buyer beware.\n",
    "\n",
    "\n",
    "\n",
    "\n"
   ]
  },
  {
   "cell_type": "markdown",
   "metadata": {},
   "source": [
    "# Using Libraries - Distance/range sensor - HC-SR04\n",
    "\n",
    "A lot of complex functions are handled by libraries that you can search and load directly from the Arduino IDE.\n",
    "\n",
    "An example is the HC-SR04,\n",
    "\n",
    "![](HC-SR04.png)\n",
    "\n",
    "\n",
    "__[This complete guide](https://randomnerdtutorials.com/complete-guide-for-ultrasonic-sensor-hc-sr04/)__ shows you how to do it with your own code, then does it with a great library.\n",
    "\n",
    "Libraries are accessed from the IDE with __Tools -> Manage Libraries__. \n",
    "Search for the __newping__ library and click on the entry to download it.\n",
    "\n",
    "The code is in the following box.\n"
   ]
  },
  {
   "cell_type": "code",
   "execution_count": null,
   "metadata": {},
   "outputs": [],
   "source": [
    "# Adding a display\n",
    "\n",
    "educ8s.tv has a [video](https://www.youtube.com/watch?v=E6quVf1_BIg) and an [article](http://educ8s.tv/tutorials/best-arduino-display/)"
   ]
  },
  {
   "cell_type": "code",
   "execution_count": 19,
   "metadata": {},
   "outputs": [
    {
     "name": "stdout",
     "output_type": "stream",
     "text": [
      "Writing HC_SR04_newping/HC_SR04_newping.ino\n"
     ]
    }
   ],
   "source": [
    "%%writefile HC_SR04_newping/HC_SR04_newping.ino\n",
    "/*\n",
    " * Posted on https://randomnerdtutorials.com\n",
    " * created by http://playground.arduino.cc/Code/NewPing\n",
    "*/\n",
    "\n",
    "#include <NewPing.h>\n",
    " \n",
    "#define TRIGGER_PIN 11\n",
    "#define ECHO_PIN 12\n",
    "#define MAX_DISTANCE 200\n",
    "\n",
    "// NewPing setup of pins and maximum distance\n",
    "NewPing sonar(TRIGGER_PIN, ECHO_PIN, MAX_DISTANCE); \n",
    " \n",
    "void setup() {\n",
    "   Serial.begin(9600);\n",
    "}\n",
    " \n",
    "void loop() {\n",
    "   delay(50);\n",
    "   unsigned int distance = sonar.ping_cm();\n",
    "   Serial.print(distance);\n",
    "   Serial.println(\"cm\");\n",
    "}"
   ]
  },
  {
   "cell_type": "raw",
   "metadata": {},
   "source": [
    "%%cmd\n",
    "\"C:\\Program Files (x86)\\Arduino\\arduino.exe\" --verify HC_SR04_newping/HC_SR04_newping.ino"
   ]
  },
  {
   "cell_type": "markdown",
   "metadata": {},
   "source": [
    "__%%magic_name?__ provides help and source of the macro.\n",
    "\n",
    "osm.py contains the %%writefile source\n",
    "script.py contains %%cmd\n",
    "\n",
    "__[The Arduino command line page](https://github.com/arduino/Arduino/blob/master/build/shared/manpage.adoc)__\n",
    "\n",
    "__[Creating a magic](http://mlexplained.com/2017/12/28/creating-custom-magic-commands-in-jupyter/)__ and __[another one](https://stackoverflow.com/questions/38020679/jupyter-write-a-custom-magic-that-modifies-the-contents-of-the-cell-its-in)__ and possible __[the best one](https://ipython-books.github.io/14-creating-an-ipython-extension-with-custom-magic-commands/)__\n",
    "\n",
    "Information on function decorators __[here (tutorial)](https://www.python-course.eu/python3_decorators.php)__ , __[here](https://www.thecodeship.com/patterns/guide-to-python-function-decorators/)__ and __[here (more theoretical)](https://www.thecodeship.com/patterns/guide-to-python-function-decorators/)__"
   ]
  },
  {
   "cell_type": "code",
   "execution_count": 27,
   "metadata": {},
   "outputs": [],
   "source": [
    "%%system?\n",
    "\n"
   ]
  },
  {
   "cell_type": "code",
   "execution_count": 23,
   "metadata": {},
   "outputs": [
    {
     "name": "stdout",
     "output_type": "stream",
     "text": [
      "Microsoft Windows [Version 10.0.17763.253]\r\n",
      "(c) 2018 Microsoft Corporation. All rights reserved.\r\n",
      "\r\n",
      "C:\\Users\\rjjun\\github\\Arduino_Tutorial_1>\"C:\\Program Files (x86)\\Arduino\\arduino.exe\" --upload HC_SR04_newping/HC_SR04_newping.ino\n",
      "\r\n",
      "C:\\Users\\rjjun\\github\\Arduino_Tutorial_1>Sketch uses 2456 bytes (7%) of program storage space. Maximum is 32256 bytes.\r\n",
      "Global variables use 212 bytes (10%) of dynamic memory, leaving 1836 bytes for local variables. Maximum is 2048 bytes.\r\n"
     ]
    },
    {
     "name": "stderr",
     "output_type": "stream",
     "text": [
      "Loading configuration...\r\n",
      "Initializing packages...\r\n",
      "Preparing boards...\r\n",
      "Verifying...\r\n",
      "Uploading...\r\n"
     ]
    }
   ],
   "source": [
    "%%cmd\n",
    "\"C:\\Program Files (x86)\\Arduino\\arduino.exe\" --upload HC_SR04_newping/HC_SR04_newping.ino"
   ]
  },
  {
   "cell_type": "code",
   "execution_count": 18,
   "metadata": {},
   "outputs": [
    {
     "name": "stdout",
     "output_type": "stream",
     "text": [
      "Microsoft Windows [Version 10.0.17763.253]\r\n",
      "(c) 2018 Microsoft Corporation. All rights reserved.\r\n",
      "\r\n",
      "C:\\Users\\rjjun\\github\\Arduino_Tutorial_1>mkdir HC_SR04_newping\n",
      "\r\n",
      "C:\\Users\\rjjun\\github\\Arduino_Tutorial_1>"
     ]
    }
   ],
   "source": [
    "%%cmd\n",
    "mkdir HC_SR04_newping"
   ]
  },
  {
   "cell_type": "markdown",
   "metadata": {},
   "source": [
    "# Documenting your project: fritzing\n",
    "\n",
    "http://fritzing.org"
   ]
  },
  {
   "cell_type": "code",
   "execution_count": 4,
   "metadata": {
    "scrolled": true
   },
   "outputs": [
    {
     "name": "stdout",
     "output_type": "stream",
     "text": [
      "Writing test_code.txt\n"
     ]
    },
    {
     "ename": "FileNotFoundError",
     "evalue": "[Errno 2] No such file or directory: 'test_code.txt'",
     "output_type": "error",
     "traceback": [
      "\u001b[1;31m---------------------------------------------------------------------------\u001b[0m",
      "\u001b[1;31mFileNotFoundError\u001b[0m                         Traceback (most recent call last)",
      "\u001b[1;32m<ipython-input-4-a87f976110e2>\u001b[0m in \u001b[0;36m<module>\u001b[1;34m\u001b[0m\n\u001b[1;32m----> 1\u001b[1;33m \u001b[0mget_ipython\u001b[0m\u001b[1;33m(\u001b[0m\u001b[1;33m)\u001b[0m\u001b[1;33m.\u001b[0m\u001b[0mrun_cell_magic\u001b[0m\u001b[1;33m(\u001b[0m\u001b[1;34m'writefile'\u001b[0m\u001b[1;33m,\u001b[0m \u001b[1;34m'test_code.txt'\u001b[0m\u001b[1;33m,\u001b[0m \u001b[1;34m'{\\n# This is a test\\n}\\n'\u001b[0m\u001b[1;33m)\u001b[0m\u001b[1;33m\u001b[0m\u001b[1;33m\u001b[0m\u001b[0m\n\u001b[0m",
      "\u001b[1;32m~\\Anaconda3\\lib\\site-packages\\IPython\\core\\interactiveshell.py\u001b[0m in \u001b[0;36mrun_cell_magic\u001b[1;34m(self, magic_name, line, cell)\u001b[0m\n\u001b[0;32m   2321\u001b[0m             \u001b[0mmagic_arg_s\u001b[0m \u001b[1;33m=\u001b[0m \u001b[0mself\u001b[0m\u001b[1;33m.\u001b[0m\u001b[0mvar_expand\u001b[0m\u001b[1;33m(\u001b[0m\u001b[0mline\u001b[0m\u001b[1;33m,\u001b[0m \u001b[0mstack_depth\u001b[0m\u001b[1;33m)\u001b[0m\u001b[1;33m\u001b[0m\u001b[1;33m\u001b[0m\u001b[0m\n\u001b[0;32m   2322\u001b[0m             \u001b[1;32mwith\u001b[0m \u001b[0mself\u001b[0m\u001b[1;33m.\u001b[0m\u001b[0mbuiltin_trap\u001b[0m\u001b[1;33m:\u001b[0m\u001b[1;33m\u001b[0m\u001b[1;33m\u001b[0m\u001b[0m\n\u001b[1;32m-> 2323\u001b[1;33m                 \u001b[0mresult\u001b[0m \u001b[1;33m=\u001b[0m \u001b[0mfn\u001b[0m\u001b[1;33m(\u001b[0m\u001b[0mmagic_arg_s\u001b[0m\u001b[1;33m,\u001b[0m \u001b[0mcell\u001b[0m\u001b[1;33m)\u001b[0m\u001b[1;33m\u001b[0m\u001b[1;33m\u001b[0m\u001b[0m\n\u001b[0m\u001b[0;32m   2324\u001b[0m             \u001b[1;32mreturn\u001b[0m \u001b[0mresult\u001b[0m\u001b[1;33m\u001b[0m\u001b[1;33m\u001b[0m\u001b[0m\n\u001b[0;32m   2325\u001b[0m \u001b[1;33m\u001b[0m\u001b[0m\n",
      "\u001b[1;32m<decorator-gen-107>\u001b[0m in \u001b[0;36mwritefile\u001b[1;34m(self, line, cell)\u001b[0m\n",
      "\u001b[1;32m~\\Anaconda3\\lib\\site-packages\\IPython\\core\\magic.py\u001b[0m in \u001b[0;36m<lambda>\u001b[1;34m(f, *a, **k)\u001b[0m\n\u001b[0;32m    185\u001b[0m     \u001b[1;31m# but it's overkill for just that one bit of state.\u001b[0m\u001b[1;33m\u001b[0m\u001b[1;33m\u001b[0m\u001b[1;33m\u001b[0m\u001b[0m\n\u001b[0;32m    186\u001b[0m     \u001b[1;32mdef\u001b[0m \u001b[0mmagic_deco\u001b[0m\u001b[1;33m(\u001b[0m\u001b[0marg\u001b[0m\u001b[1;33m)\u001b[0m\u001b[1;33m:\u001b[0m\u001b[1;33m\u001b[0m\u001b[1;33m\u001b[0m\u001b[0m\n\u001b[1;32m--> 187\u001b[1;33m         \u001b[0mcall\u001b[0m \u001b[1;33m=\u001b[0m \u001b[1;32mlambda\u001b[0m \u001b[0mf\u001b[0m\u001b[1;33m,\u001b[0m \u001b[1;33m*\u001b[0m\u001b[0ma\u001b[0m\u001b[1;33m,\u001b[0m \u001b[1;33m**\u001b[0m\u001b[0mk\u001b[0m\u001b[1;33m:\u001b[0m \u001b[0mf\u001b[0m\u001b[1;33m(\u001b[0m\u001b[1;33m*\u001b[0m\u001b[0ma\u001b[0m\u001b[1;33m,\u001b[0m \u001b[1;33m**\u001b[0m\u001b[0mk\u001b[0m\u001b[1;33m)\u001b[0m\u001b[1;33m\u001b[0m\u001b[1;33m\u001b[0m\u001b[0m\n\u001b[0m\u001b[0;32m    188\u001b[0m \u001b[1;33m\u001b[0m\u001b[0m\n\u001b[0;32m    189\u001b[0m         \u001b[1;32mif\u001b[0m \u001b[0mcallable\u001b[0m\u001b[1;33m(\u001b[0m\u001b[0marg\u001b[0m\u001b[1;33m)\u001b[0m\u001b[1;33m:\u001b[0m\u001b[1;33m\u001b[0m\u001b[1;33m\u001b[0m\u001b[0m\n",
      "\u001b[1;32m~\\Anaconda3\\lib\\site-packages\\IPython\\core\\magics\\osm.py\u001b[0m in \u001b[0;36mwritefile\u001b[1;34m(self, line, cell)\u001b[0m\n\u001b[0;32m    840\u001b[0m \u001b[1;33m\u001b[0m\u001b[0m\n\u001b[0;32m    841\u001b[0m         \u001b[0mmode\u001b[0m \u001b[1;33m=\u001b[0m \u001b[1;34m'a'\u001b[0m \u001b[1;32mif\u001b[0m \u001b[0margs\u001b[0m\u001b[1;33m.\u001b[0m\u001b[0mappend\u001b[0m \u001b[1;32melse\u001b[0m \u001b[1;34m'w'\u001b[0m\u001b[1;33m\u001b[0m\u001b[1;33m\u001b[0m\u001b[0m\n\u001b[1;32m--> 842\u001b[1;33m         \u001b[1;32mwith\u001b[0m \u001b[0mio\u001b[0m\u001b[1;33m.\u001b[0m\u001b[0mopen\u001b[0m\u001b[1;33m(\u001b[0m\u001b[0mfilename\u001b[0m\u001b[1;33m,\u001b[0m \u001b[0mmode\u001b[0m\u001b[1;33m,\u001b[0m \u001b[0mencoding\u001b[0m\u001b[1;33m=\u001b[0m\u001b[1;34m'utf-8'\u001b[0m\u001b[1;33m)\u001b[0m \u001b[1;32mas\u001b[0m \u001b[0mf\u001b[0m\u001b[1;33m:\u001b[0m\u001b[1;33m\u001b[0m\u001b[1;33m\u001b[0m\u001b[0m\n\u001b[0m\u001b[0;32m    843\u001b[0m             \u001b[0mf\u001b[0m\u001b[1;33m.\u001b[0m\u001b[0mwrite\u001b[0m\u001b[1;33m(\u001b[0m\u001b[0mcell\u001b[0m\u001b[1;33m)\u001b[0m\u001b[1;33m\u001b[0m\u001b[1;33m\u001b[0m\u001b[0m\n",
      "\u001b[1;31mFileNotFoundError\u001b[0m: [Errno 2] No such file or directory: 'test_code.txt'"
     ]
    }
   ],
   "source": [
    "%%writefile test_code.txt\n",
    "{\n",
    "# This is a test\n",
    "}"
   ]
  },
  {
   "cell_type": "code",
   "execution_count": 1,
   "metadata": {},
   "outputs": [
    {
     "name": "stderr",
     "output_type": "stream",
     "text": [
      "UsageError: Line magic function `%` not found.\n"
     ]
    }
   ],
   "source": [
    "% lsmagic\n"
   ]
  },
  {
   "cell_type": "code",
   "execution_count": 2,
   "metadata": {},
   "outputs": [
    {
     "data": {
      "application/json": {
       "cell": {
        "!": "OSMagics",
        "HTML": "Other",
        "SVG": "Other",
        "bash": "Other",
        "capture": "ExecutionMagics",
        "cmd": "Other",
        "debug": "ExecutionMagics",
        "file": "Other",
        "html": "DisplayMagics",
        "javascript": "DisplayMagics",
        "js": "DisplayMagics",
        "latex": "DisplayMagics",
        "markdown": "DisplayMagics",
        "perl": "Other",
        "prun": "ExecutionMagics",
        "pypy": "Other",
        "python": "Other",
        "python2": "Other",
        "python3": "Other",
        "ruby": "Other",
        "script": "ScriptMagics",
        "sh": "Other",
        "svg": "DisplayMagics",
        "sx": "OSMagics",
        "system": "OSMagics",
        "time": "ExecutionMagics",
        "timeit": "ExecutionMagics",
        "writefile": "OSMagics"
       },
       "line": {
        "alias": "OSMagics",
        "alias_magic": "BasicMagics",
        "autoawait": "AsyncMagics",
        "autocall": "AutoMagics",
        "automagic": "AutoMagics",
        "autosave": "KernelMagics",
        "bookmark": "OSMagics",
        "cd": "OSMagics",
        "clear": "KernelMagics",
        "cls": "KernelMagics",
        "colors": "BasicMagics",
        "config": "ConfigMagics",
        "connect_info": "KernelMagics",
        "copy": "Other",
        "ddir": "Other",
        "debug": "ExecutionMagics",
        "dhist": "OSMagics",
        "dirs": "OSMagics",
        "doctest_mode": "BasicMagics",
        "echo": "Other",
        "ed": "Other",
        "edit": "KernelMagics",
        "env": "OSMagics",
        "gui": "BasicMagics",
        "hist": "Other",
        "history": "HistoryMagics",
        "killbgscripts": "ScriptMagics",
        "ldir": "Other",
        "less": "KernelMagics",
        "load": "CodeMagics",
        "load_ext": "ExtensionMagics",
        "loadpy": "CodeMagics",
        "logoff": "LoggingMagics",
        "logon": "LoggingMagics",
        "logstart": "LoggingMagics",
        "logstate": "LoggingMagics",
        "logstop": "LoggingMagics",
        "ls": "Other",
        "lsmagic": "BasicMagics",
        "macro": "ExecutionMagics",
        "magic": "BasicMagics",
        "matplotlib": "PylabMagics",
        "mkdir": "Other",
        "more": "KernelMagics",
        "notebook": "BasicMagics",
        "page": "BasicMagics",
        "pastebin": "CodeMagics",
        "pdb": "ExecutionMagics",
        "pdef": "NamespaceMagics",
        "pdoc": "NamespaceMagics",
        "pfile": "NamespaceMagics",
        "pinfo": "NamespaceMagics",
        "pinfo2": "NamespaceMagics",
        "pip": "BasicMagics",
        "popd": "OSMagics",
        "pprint": "BasicMagics",
        "precision": "BasicMagics",
        "prun": "ExecutionMagics",
        "psearch": "NamespaceMagics",
        "psource": "NamespaceMagics",
        "pushd": "OSMagics",
        "pwd": "OSMagics",
        "pycat": "OSMagics",
        "pylab": "PylabMagics",
        "qtconsole": "KernelMagics",
        "quickref": "BasicMagics",
        "recall": "HistoryMagics",
        "rehashx": "OSMagics",
        "reload_ext": "ExtensionMagics",
        "ren": "Other",
        "rep": "Other",
        "rerun": "HistoryMagics",
        "reset": "NamespaceMagics",
        "reset_selective": "NamespaceMagics",
        "rmdir": "Other",
        "run": "ExecutionMagics",
        "save": "CodeMagics",
        "sc": "OSMagics",
        "set_env": "OSMagics",
        "store": "StoreMagics",
        "sx": "OSMagics",
        "system": "OSMagics",
        "tb": "ExecutionMagics",
        "time": "ExecutionMagics",
        "timeit": "ExecutionMagics",
        "unalias": "OSMagics",
        "unload_ext": "ExtensionMagics",
        "who": "NamespaceMagics",
        "who_ls": "NamespaceMagics",
        "whos": "NamespaceMagics",
        "xdel": "NamespaceMagics",
        "xmode": "BasicMagics"
       }
      },
      "text/plain": [
       "Available line magics:\n",
       "%alias  %alias_magic  %autoawait  %autocall  %automagic  %autosave  %bookmark  %cd  %clear  %cls  %colors  %config  %connect_info  %copy  %ddir  %debug  %dhist  %dirs  %doctest_mode  %echo  %ed  %edit  %env  %gui  %hist  %history  %killbgscripts  %ldir  %less  %load  %load_ext  %loadpy  %logoff  %logon  %logstart  %logstate  %logstop  %ls  %lsmagic  %macro  %magic  %matplotlib  %mkdir  %more  %notebook  %page  %pastebin  %pdb  %pdef  %pdoc  %pfile  %pinfo  %pinfo2  %popd  %pprint  %precision  %prun  %psearch  %psource  %pushd  %pwd  %pycat  %pylab  %qtconsole  %quickref  %recall  %rehashx  %reload_ext  %ren  %rep  %rerun  %reset  %reset_selective  %rmdir  %run  %save  %sc  %set_env  %store  %sx  %system  %tb  %time  %timeit  %unalias  %unload_ext  %who  %who_ls  %whos  %xdel  %xmode\n",
       "\n",
       "Available cell magics:\n",
       "%%!  %%HTML  %%SVG  %%bash  %%capture  %%cmd  %%debug  %%file  %%html  %%javascript  %%js  %%latex  %%markdown  %%perl  %%prun  %%pypy  %%python  %%python2  %%python3  %%ruby  %%script  %%sh  %%svg  %%sx  %%system  %%time  %%timeit  %%writefile\n",
       "\n",
       "Automagic is ON, % prefix IS NOT needed for line magics."
      ]
     },
     "execution_count": 2,
     "metadata": {},
     "output_type": "execute_result"
    }
   ],
   "source": [
    "%lsmagic"
   ]
  },
  {
   "cell_type": "raw",
   "metadata": {},
   "source": [
    "%lsmagic\n"
   ]
  },
  {
   "cell_type": "code",
   "execution_count": 1,
   "metadata": {},
   "outputs": [
    {
     "ename": "ModuleNotFoundError",
     "evalue": "No module named 'drawnow'",
     "output_type": "error",
     "traceback": [
      "\u001b[1;31m---------------------------------------------------------------------------\u001b[0m",
      "\u001b[1;31mModuleNotFoundError\u001b[0m                       Traceback (most recent call last)",
      "\u001b[1;32m<ipython-input-1-25eaad6ffd81>\u001b[0m in \u001b[0;36m<module>\u001b[1;34m\u001b[0m\n\u001b[1;32m----> 1\u001b[1;33m \u001b[1;32mimport\u001b[0m \u001b[0mdrawnow\u001b[0m\u001b[1;33m\u001b[0m\u001b[1;33m\u001b[0m\u001b[0m\n\u001b[0m",
      "\u001b[1;31mModuleNotFoundError\u001b[0m: No module named 'drawnow'"
     ]
    }
   ],
   "source": [
    "import drawnow\n"
   ]
  },
  {
   "cell_type": "code",
   "execution_count": null,
   "metadata": {},
   "outputs": [],
   "source": [
    "\n",
    "import time\n",
    "\n",
    "import numpy as np\n",
    "from bokeh.io import push_notebook, show, output_notebook\n",
    "from bokeh.models import HoverTool\n",
    "from bokeh.plotting import figure \n",
    "output_notebook()\n",
    "\n",
    "N = 1000\n",
    "x = np.random.random(size=N) * 100\n",
    "y = np.random.random(size=N) * 100\n",
    "radii = np.random.random(size=N) * 2\n",
    "colors = [\"#%02x%02x%02x\" % (int(r), int(g), 150) for r, g in zip(50+2*x, 30+2*y)]\n",
    "\n",
    "TOOLS=\"crosshair,pan,wheel_zoom,box_zoom,reset,tap,box_select,lasso_select\"\n",
    "\n",
    "p = figure(tools=TOOLS)\n",
    "p.axis.major_label_text_font_size = \"18pt\"\n",
    "hover = HoverTool(tooltips=None, mode=\"vline\")\n",
    "p.add_tools(hover)\n",
    "r = p.circle(x,y, radius=radii, \n",
    "             fill_color=colors, fill_alpha=0.6, line_color=None, \n",
    "             hover_fill_color=\"black\", hover_fill_alpha=0.7, hover_line_color=None)\n",
    "\n",
    "\n",
    "\n",
    "# get and explicit handle to update the next show cell with\n",
    "target = show(p, notebook_handle=True)\n",
    "\n",
    "i = 0\n",
    "while True:\n",
    "    i +=1 \n",
    "    p.title.text = str(i)\n",
    "    \n",
    "    r.data_source.data['radius'] = radii * (2 + np.sin(i/5))\n",
    "    \n",
    "    x = r.data_source.data['x']\n",
    "    y = r.data_source.data['y']\n",
    "    d = np.sqrt((x-50)**2 + (y-50)**2)/100\n",
    "    rand = 2 * (np.random.random(size=N) - 0.5)\n",
    "    r.data_source.data['x'] = x + 2 * np.sin(d) * rand\n",
    "    r.data_source.data['y'] = y + np.cos(d**2) * rand\n",
    "    \n",
    "    p.axis.major_label_text_color = r.data_source.data['fill_color'][int(i%N)]\n",
    "\n",
    "    # push updates to the plot continuously using the handle (intererrupt the notebook kernel to stop)\n",
    "    push_notebook(handle=target)\n",
    "    time.sleep(0.1)\n"
   ]
  },
  {
   "cell_type": "code",
   "execution_count": null,
   "metadata": {},
   "outputs": [],
   "source": [
    "# Update the hover glyph propertes using the explicit handle (go hover over the plot)\n",
    "r.hover_glyph.fill_color = \"white\"\n",
    "r.hover_glyph.fill_alpha = 0.5\n",
    "hover.mode = \"vline\"\n",
    "push_notebook()"
   ]
  },
  {
   "cell_type": "code",
   "execution_count": 4,
   "metadata": {},
   "outputs": [
    {
     "name": "stdout",
     "output_type": "stream",
     "text": [
      "Writing c:/users/rjjun/desktop/myplot.py\n"
     ]
    }
   ],
   "source": [
    "%%writefile \"c:/users/rjjun/desktop/myplot.py\"\n",
    "from datetime import datetime\n",
    "from matplotlib import pyplot\n",
    "from matplotlib.animation import FuncAnimation\n",
    "from random import randrange\n",
    "\n",
    "x_data, y_data = [], []\n",
    "\n",
    "figure = pyplot.figure()\n",
    "line, = pyplot.plot_date(x_data, y_data, '-')\n",
    "\n",
    "def update(frame):\n",
    "    x_data.append(datetime.now())\n",
    "    y_data.append(randrange(0, 100))\n",
    "    line.set_data(x_data, y_data)\n",
    "    figure.gca().relim()\n",
    "    figure.gca().autoscale_view()\n",
    "    return line,\n",
    "\n",
    "animation = FuncAnimation(figure, update, interval=200)\n",
    "\n",
    "pyplot.show()"
   ]
  },
  {
   "cell_type": "markdown",
   "metadata": {},
   "source": [
    "# Sound and tone stuff\n",
    "\n",
    "__[Brett Hagman's Ugly Tone Details](https://github.com/bhagman/Tone#ugly-details)__\n",
    "\n",
    "__[More fun with tones](https://github.com/bhagman/Tone#ugly-details)__\n"
   ]
  },
  {
   "cell_type": "code",
   "execution_count": 4,
   "metadata": {},
   "outputs": [
    {
     "name": "stdout",
     "output_type": "stream",
     "text": [
      "Overwriting sketches/simpletone11/simpletone11.ino\n",
      "Build will upload to board if compile successful\n",
      "Starting Arduino build\n",
      "Command output :  Sketch uses 1550 bytes (4%) of program storage space. Maximum is 32256 bytes.\n",
      "Global variables use 28 bytes (1%) of dynamic memory, leaving 2020 bytes for local variables. Maximum is 2048 bytes.\n",
      "\n",
      "Command errors:  Loading configuration...\n",
      "Initializing packages...\n",
      "Preparing boards...\n",
      "Verifying...\n",
      "Uploading...\n",
      "avrdude: ser_open(): can't open device \"\\\\.\\COM6\": The system cannot find the file specified.\n",
      "\n",
      "An error occurred while uploading the sketch\n",
      "\n",
      "Done\n"
     ]
    }
   ],
   "source": [
    "%%arduino simpletone11\n",
    "void setup() {\n",
    "    // nothing to do here\n",
    " }\n",
    " \n",
    " void loop() {\n",
    "    delay(1000);\n",
    "   tone(11, 400, 1000);\n",
    " }"
   ]
  },
  {
   "cell_type": "code",
   "execution_count": null,
   "metadata": {},
   "outputs": [],
   "source": []
  },
  {
   "cell_type": "code",
   "execution_count": null,
   "metadata": {},
   "outputs": [],
   "source": []
  }
 ],
 "metadata": {
  "kernelspec": {
   "display_name": "Python 3",
   "language": "python",
   "name": "python3"
  },
  "language_info": {
   "codemirror_mode": {
    "name": "ipython",
    "version": 3
   },
   "file_extension": ".py",
   "mimetype": "text/x-python",
   "name": "python",
   "nbconvert_exporter": "python",
   "pygments_lexer": "ipython3",
   "version": "3.7.1"
  }
 },
 "nbformat": 4,
 "nbformat_minor": 2
}
